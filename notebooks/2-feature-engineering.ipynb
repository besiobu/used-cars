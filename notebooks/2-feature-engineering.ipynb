{
 "cells": [
  {
   "cell_type": "code",
   "execution_count": 1,
   "id": "ed24afd9",
   "metadata": {},
   "outputs": [],
   "source": [
    "import pandas as pd\n",
    "from sklearn.model_selection import train_test_split"
   ]
  },
  {
   "cell_type": "markdown",
   "id": "b72d82b0",
   "metadata": {},
   "source": [
    "# 2-feature-engineering"
   ]
  },
  {
   "cell_type": "code",
   "execution_count": 2,
   "id": "8a596a8a",
   "metadata": {},
   "outputs": [],
   "source": [
    "df = pd.read_csv('../data/interim/vehicles.csv')"
   ]
  },
  {
   "cell_type": "code",
   "execution_count": 3,
   "id": "d2223709",
   "metadata": {},
   "outputs": [
    {
     "name": "stdout",
     "output_type": "stream",
     "text": [
      "<class 'pandas.core.frame.DataFrame'>\n",
      "RangeIndex: 263973 entries, 0 to 263972\n",
      "Data columns (total 15 columns):\n",
      " #   Column        Non-Null Count   Dtype  \n",
      "---  ------        --------------   -----  \n",
      " 0   condition     263973 non-null  object \n",
      " 1   cylinders     263973 non-null  object \n",
      " 2   drive         263973 non-null  object \n",
      " 3   fuel          263973 non-null  object \n",
      " 4   lat           263973 non-null  float64\n",
      " 5   long          263973 non-null  float64\n",
      " 6   manufacturer  263973 non-null  object \n",
      " 7   model         263973 non-null  object \n",
      " 8   odometer      263973 non-null  float64\n",
      " 9   paint_color   263973 non-null  object \n",
      " 10  price         263973 non-null  int64  \n",
      " 11  region        263973 non-null  object \n",
      " 12  transmission  263973 non-null  object \n",
      " 13  type          263973 non-null  object \n",
      " 14  year          263973 non-null  float64\n",
      "dtypes: float64(4), int64(1), object(10)\n",
      "memory usage: 30.2+ MB\n"
     ]
    }
   ],
   "source": [
    "df.info()"
   ]
  },
  {
   "cell_type": "code",
   "execution_count": 4,
   "id": "d4c557ca",
   "metadata": {},
   "outputs": [
    {
     "data": {
      "text/plain": [
       "(263973, 15)"
      ]
     },
     "execution_count": 4,
     "metadata": {},
     "output_type": "execute_result"
    }
   ],
   "source": [
    "df.shape"
   ]
  },
  {
   "cell_type": "code",
   "execution_count": 5,
   "id": "23508cec",
   "metadata": {},
   "outputs": [],
   "source": [
    "dfs = [df]\n",
    "for col in df.select_dtypes('object').drop(['model', 'region'], axis=1):\n",
    "    dfs.append(pd.get_dummies(df[[col]]))"
   ]
  },
  {
   "cell_type": "code",
   "execution_count": 6,
   "id": "3f970e4c",
   "metadata": {},
   "outputs": [],
   "source": [
    "df = pd.concat(dfs, axis=1)"
   ]
  },
  {
   "cell_type": "code",
   "execution_count": 7,
   "id": "065b1643",
   "metadata": {
    "scrolled": false
   },
   "outputs": [
    {
     "data": {
      "text/plain": [
       "['condition',\n",
       " 'condition_excellent',\n",
       " 'condition_fair',\n",
       " 'condition_good',\n",
       " 'condition_like new',\n",
       " 'condition_new',\n",
       " 'condition_salvage',\n",
       " 'cylinders',\n",
       " 'cylinders_10 cylinders',\n",
       " 'cylinders_12 cylinders',\n",
       " 'cylinders_3 cylinders',\n",
       " 'cylinders_4 cylinders',\n",
       " 'cylinders_5 cylinders',\n",
       " 'cylinders_6 cylinders',\n",
       " 'cylinders_8 cylinders',\n",
       " 'cylinders_other',\n",
       " 'drive',\n",
       " 'drive_4wd',\n",
       " 'drive_fwd',\n",
       " 'drive_rwd',\n",
       " 'fuel',\n",
       " 'fuel_diesel',\n",
       " 'fuel_electric',\n",
       " 'fuel_gas',\n",
       " 'fuel_hybrid',\n",
       " 'fuel_other',\n",
       " 'lat',\n",
       " 'long',\n",
       " 'manufacturer',\n",
       " 'manufacturer_acura',\n",
       " 'manufacturer_audi',\n",
       " 'manufacturer_bmw',\n",
       " 'manufacturer_buick',\n",
       " 'manufacturer_cadillac',\n",
       " 'manufacturer_chevrolet',\n",
       " 'manufacturer_chrysler',\n",
       " 'manufacturer_dodge',\n",
       " 'manufacturer_ford',\n",
       " 'manufacturer_gmc',\n",
       " 'manufacturer_honda',\n",
       " 'manufacturer_hyundai',\n",
       " 'manufacturer_infiniti',\n",
       " 'manufacturer_jaguar',\n",
       " 'manufacturer_jeep',\n",
       " 'manufacturer_kia',\n",
       " 'manufacturer_lexus',\n",
       " 'manufacturer_lincoln',\n",
       " 'manufacturer_mazda',\n",
       " 'manufacturer_mercedes-benz',\n",
       " 'manufacturer_mini',\n",
       " 'manufacturer_mitsubishi',\n",
       " 'manufacturer_nissan',\n",
       " 'manufacturer_pontiac',\n",
       " 'manufacturer_ram',\n",
       " 'manufacturer_rover',\n",
       " 'manufacturer_subaru',\n",
       " 'manufacturer_toyota',\n",
       " 'manufacturer_volkswagen',\n",
       " 'manufacturer_volvo',\n",
       " 'model',\n",
       " 'odometer',\n",
       " 'paint_color',\n",
       " 'paint_color_black',\n",
       " 'paint_color_blue',\n",
       " 'paint_color_brown',\n",
       " 'paint_color_custom',\n",
       " 'paint_color_green',\n",
       " 'paint_color_grey',\n",
       " 'paint_color_orange',\n",
       " 'paint_color_purple',\n",
       " 'paint_color_red',\n",
       " 'paint_color_silver',\n",
       " 'paint_color_white',\n",
       " 'paint_color_yellow',\n",
       " 'price',\n",
       " 'region',\n",
       " 'transmission',\n",
       " 'transmission_automatic',\n",
       " 'transmission_manual',\n",
       " 'transmission_other',\n",
       " 'type',\n",
       " 'type_SUV',\n",
       " 'type_bus',\n",
       " 'type_convertible',\n",
       " 'type_coupe',\n",
       " 'type_hatchback',\n",
       " 'type_mini-van',\n",
       " 'type_offroad',\n",
       " 'type_other',\n",
       " 'type_pickup',\n",
       " 'type_sedan',\n",
       " 'type_truck',\n",
       " 'type_van',\n",
       " 'type_wagon',\n",
       " 'year']"
      ]
     },
     "execution_count": 7,
     "metadata": {},
     "output_type": "execute_result"
    }
   ],
   "source": [
    "sorted(df.columns)"
   ]
  },
  {
   "cell_type": "code",
   "execution_count": 8,
   "id": "dd410d2b",
   "metadata": {},
   "outputs": [
    {
     "data": {
      "text/plain": [
       "(263973, 95)"
      ]
     },
     "execution_count": 8,
     "metadata": {},
     "output_type": "execute_result"
    }
   ],
   "source": [
    "df.shape"
   ]
  },
  {
   "cell_type": "code",
   "execution_count": 9,
   "id": "c7c8f922",
   "metadata": {},
   "outputs": [],
   "source": [
    "df.to_csv('../data/processed/vehicles.csv', index=False)"
   ]
  }
 ],
 "metadata": {
  "kernelspec": {
   "display_name": "Python 3.8.10 64-bit",
   "language": "python",
   "name": "python3810jvsc74a57bd031f2aee4e71d21fbe5cf8b01ff0e069b9275f58929596ceb00d14d90e3e16cd6"
  },
  "language_info": {
   "codemirror_mode": {
    "name": "ipython",
    "version": 3
   },
   "file_extension": ".py",
   "mimetype": "text/x-python",
   "name": "python",
   "nbconvert_exporter": "python",
   "pygments_lexer": "ipython3",
   "version": "3.8.10"
  }
 },
 "nbformat": 4,
 "nbformat_minor": 5
}
