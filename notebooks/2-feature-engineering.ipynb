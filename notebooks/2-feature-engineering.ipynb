{
 "cells": [
  {
   "cell_type": "code",
   "execution_count": 1,
   "id": "ed24afd9",
   "metadata": {},
   "outputs": [],
   "source": [
    "import pandas as pd\n",
    "from sklearn.model_selection import train_test_split"
   ]
  },
  {
   "cell_type": "markdown",
   "id": "b72d82b0",
   "metadata": {},
   "source": [
    "# 2-feature-engineering"
   ]
  },
  {
   "cell_type": "markdown",
   "id": "b15f472f",
   "metadata": {},
   "source": [
    "Dane pochodzą z:\n",
    "* https://www.kaggle.com/austinreese/craigslist-carstrucks-data\n",
    "* https://github.com/AustinReese/UsedVehicleSearch"
   ]
  },
  {
   "cell_type": "code",
   "execution_count": 2,
   "id": "8a596a8a",
   "metadata": {},
   "outputs": [],
   "source": [
    "df = pd.read_csv('../data/interim/vehicles.csv')"
   ]
  },
  {
   "cell_type": "code",
   "execution_count": 3,
   "id": "d2223709",
   "metadata": {},
   "outputs": [
    {
     "name": "stdout",
     "output_type": "stream",
     "text": [
      "<class 'pandas.core.frame.DataFrame'>\n",
      "RangeIndex: 169852 entries, 0 to 169851\n",
      "Data columns (total 11 columns):\n",
      " #   Column        Non-Null Count   Dtype  \n",
      "---  ------        --------------   -----  \n",
      " 0   condition     169852 non-null  object \n",
      " 1   cylinders     169852 non-null  object \n",
      " 2   drive         169852 non-null  object \n",
      " 3   fuel          169852 non-null  object \n",
      " 4   manufacturer  169852 non-null  object \n",
      " 5   odometer      169852 non-null  float64\n",
      " 6   paint_color   169852 non-null  object \n",
      " 7   price         169852 non-null  int64  \n",
      " 8   transmission  169852 non-null  object \n",
      " 9   type          169852 non-null  object \n",
      " 10  year          169852 non-null  float64\n",
      "dtypes: float64(2), int64(1), object(8)\n",
      "memory usage: 14.3+ MB\n"
     ]
    }
   ],
   "source": [
    "df.info()"
   ]
  },
  {
   "cell_type": "code",
   "execution_count": 4,
   "id": "4abab39a",
   "metadata": {},
   "outputs": [
    {
     "data": {
      "text/plain": [
       "count    169852.000000\n",
       "mean          8.643631\n",
       "std           4.976154\n",
       "min           1.000000\n",
       "25%           5.000000\n",
       "50%           8.000000\n",
       "75%          12.000000\n",
       "max          20.000000\n",
       "Name: year, dtype: float64"
      ]
     },
     "execution_count": 4,
     "metadata": {},
     "output_type": "execute_result"
    }
   ],
   "source": [
    "df['year'] = 2020 - df['year']  # Zmiana na wiek\n",
    "df['year'].describe()"
   ]
  },
  {
   "cell_type": "code",
   "execution_count": 5,
   "id": "d4c557ca",
   "metadata": {},
   "outputs": [
    {
     "data": {
      "text/plain": [
       "(169852, 11)"
      ]
     },
     "execution_count": 5,
     "metadata": {},
     "output_type": "execute_result"
    }
   ],
   "source": [
    "df.shape"
   ]
  },
  {
   "cell_type": "code",
   "execution_count": 6,
   "id": "23508cec",
   "metadata": {},
   "outputs": [],
   "source": [
    "dfs = [df]\n",
    "to_delete = list()\n",
    "for col in df.select_dtypes('object'):\n",
    "    dfs.append(pd.get_dummies(df[[col]], drop_first=True))\n",
    "    to_delete.append(col)"
   ]
  },
  {
   "cell_type": "code",
   "execution_count": 7,
   "id": "3f970e4c",
   "metadata": {},
   "outputs": [],
   "source": [
    "df = pd.concat(dfs, axis=1)"
   ]
  },
  {
   "cell_type": "code",
   "execution_count": 8,
   "id": "de260476",
   "metadata": {},
   "outputs": [],
   "source": [
    "df.drop(to_delete, axis=1, inplace=True)"
   ]
  },
  {
   "cell_type": "code",
   "execution_count": 9,
   "id": "065b1643",
   "metadata": {
    "scrolled": false
   },
   "outputs": [
    {
     "data": {
      "text/plain": [
       "['condition_fair',\n",
       " 'condition_good',\n",
       " 'condition_like new',\n",
       " 'condition_new',\n",
       " 'cylinders_12 cylinders',\n",
       " 'cylinders_3 cylinders',\n",
       " 'cylinders_4 cylinders',\n",
       " 'cylinders_5 cylinders',\n",
       " 'cylinders_6 cylinders',\n",
       " 'cylinders_8 cylinders',\n",
       " 'cylinders_other',\n",
       " 'drive_fwd',\n",
       " 'drive_rwd',\n",
       " 'fuel_electric',\n",
       " 'fuel_gas',\n",
       " 'fuel_hybrid',\n",
       " 'fuel_other',\n",
       " 'manufacturer_audi',\n",
       " 'manufacturer_bmw',\n",
       " 'manufacturer_buick',\n",
       " 'manufacturer_cadillac',\n",
       " 'manufacturer_chevrolet',\n",
       " 'manufacturer_chrysler',\n",
       " 'manufacturer_dodge',\n",
       " 'manufacturer_ford',\n",
       " 'manufacturer_gmc',\n",
       " 'manufacturer_honda',\n",
       " 'manufacturer_hyundai',\n",
       " 'manufacturer_infiniti',\n",
       " 'manufacturer_jaguar',\n",
       " 'manufacturer_jeep',\n",
       " 'manufacturer_kia',\n",
       " 'manufacturer_lexus',\n",
       " 'manufacturer_lincoln',\n",
       " 'manufacturer_mazda',\n",
       " 'manufacturer_mercedes-benz',\n",
       " 'manufacturer_mini',\n",
       " 'manufacturer_mitsubishi',\n",
       " 'manufacturer_nissan',\n",
       " 'manufacturer_pontiac',\n",
       " 'manufacturer_ram',\n",
       " 'manufacturer_rover',\n",
       " 'manufacturer_subaru',\n",
       " 'manufacturer_toyota',\n",
       " 'manufacturer_volkswagen',\n",
       " 'manufacturer_volvo',\n",
       " 'odometer',\n",
       " 'paint_color_blue',\n",
       " 'paint_color_brown',\n",
       " 'paint_color_custom',\n",
       " 'paint_color_green',\n",
       " 'paint_color_grey',\n",
       " 'paint_color_orange',\n",
       " 'paint_color_purple',\n",
       " 'paint_color_red',\n",
       " 'paint_color_silver',\n",
       " 'paint_color_white',\n",
       " 'paint_color_yellow',\n",
       " 'price',\n",
       " 'transmission_manual',\n",
       " 'transmission_other',\n",
       " 'type_bus',\n",
       " 'type_convertible',\n",
       " 'type_coupe',\n",
       " 'type_hatchback',\n",
       " 'type_mini-van',\n",
       " 'type_offroad',\n",
       " 'type_other',\n",
       " 'type_pickup',\n",
       " 'type_sedan',\n",
       " 'type_truck',\n",
       " 'type_van',\n",
       " 'type_wagon',\n",
       " 'year']"
      ]
     },
     "execution_count": 9,
     "metadata": {},
     "output_type": "execute_result"
    }
   ],
   "source": [
    "sorted(df.columns)"
   ]
  },
  {
   "cell_type": "code",
   "execution_count": 10,
   "id": "dd410d2b",
   "metadata": {},
   "outputs": [
    {
     "data": {
      "text/plain": [
       "(169852, 74)"
      ]
     },
     "execution_count": 10,
     "metadata": {},
     "output_type": "execute_result"
    }
   ],
   "source": [
    "df.shape"
   ]
  },
  {
   "cell_type": "code",
   "execution_count": 11,
   "id": "430d0df2",
   "metadata": {},
   "outputs": [
    {
     "name": "stdout",
     "output_type": "stream",
     "text": [
      "<class 'pandas.core.frame.DataFrame'>\n",
      "RangeIndex: 169852 entries, 0 to 169851\n",
      "Data columns (total 74 columns):\n",
      " #   Column                      Non-Null Count   Dtype  \n",
      "---  ------                      --------------   -----  \n",
      " 0   odometer                    169852 non-null  float64\n",
      " 1   price                       169852 non-null  int64  \n",
      " 2   year                        169852 non-null  float64\n",
      " 3   condition_fair              169852 non-null  uint8  \n",
      " 4   condition_good              169852 non-null  uint8  \n",
      " 5   condition_like new          169852 non-null  uint8  \n",
      " 6   condition_new               169852 non-null  uint8  \n",
      " 7   cylinders_12 cylinders      169852 non-null  uint8  \n",
      " 8   cylinders_3 cylinders       169852 non-null  uint8  \n",
      " 9   cylinders_4 cylinders       169852 non-null  uint8  \n",
      " 10  cylinders_5 cylinders       169852 non-null  uint8  \n",
      " 11  cylinders_6 cylinders       169852 non-null  uint8  \n",
      " 12  cylinders_8 cylinders       169852 non-null  uint8  \n",
      " 13  cylinders_other             169852 non-null  uint8  \n",
      " 14  drive_fwd                   169852 non-null  uint8  \n",
      " 15  drive_rwd                   169852 non-null  uint8  \n",
      " 16  fuel_electric               169852 non-null  uint8  \n",
      " 17  fuel_gas                    169852 non-null  uint8  \n",
      " 18  fuel_hybrid                 169852 non-null  uint8  \n",
      " 19  fuel_other                  169852 non-null  uint8  \n",
      " 20  manufacturer_audi           169852 non-null  uint8  \n",
      " 21  manufacturer_bmw            169852 non-null  uint8  \n",
      " 22  manufacturer_buick          169852 non-null  uint8  \n",
      " 23  manufacturer_cadillac       169852 non-null  uint8  \n",
      " 24  manufacturer_chevrolet      169852 non-null  uint8  \n",
      " 25  manufacturer_chrysler       169852 non-null  uint8  \n",
      " 26  manufacturer_dodge          169852 non-null  uint8  \n",
      " 27  manufacturer_ford           169852 non-null  uint8  \n",
      " 28  manufacturer_gmc            169852 non-null  uint8  \n",
      " 29  manufacturer_honda          169852 non-null  uint8  \n",
      " 30  manufacturer_hyundai        169852 non-null  uint8  \n",
      " 31  manufacturer_infiniti       169852 non-null  uint8  \n",
      " 32  manufacturer_jaguar         169852 non-null  uint8  \n",
      " 33  manufacturer_jeep           169852 non-null  uint8  \n",
      " 34  manufacturer_kia            169852 non-null  uint8  \n",
      " 35  manufacturer_lexus          169852 non-null  uint8  \n",
      " 36  manufacturer_lincoln        169852 non-null  uint8  \n",
      " 37  manufacturer_mazda          169852 non-null  uint8  \n",
      " 38  manufacturer_mercedes-benz  169852 non-null  uint8  \n",
      " 39  manufacturer_mini           169852 non-null  uint8  \n",
      " 40  manufacturer_mitsubishi     169852 non-null  uint8  \n",
      " 41  manufacturer_nissan         169852 non-null  uint8  \n",
      " 42  manufacturer_pontiac        169852 non-null  uint8  \n",
      " 43  manufacturer_ram            169852 non-null  uint8  \n",
      " 44  manufacturer_rover          169852 non-null  uint8  \n",
      " 45  manufacturer_subaru         169852 non-null  uint8  \n",
      " 46  manufacturer_toyota         169852 non-null  uint8  \n",
      " 47  manufacturer_volkswagen     169852 non-null  uint8  \n",
      " 48  manufacturer_volvo          169852 non-null  uint8  \n",
      " 49  paint_color_blue            169852 non-null  uint8  \n",
      " 50  paint_color_brown           169852 non-null  uint8  \n",
      " 51  paint_color_custom          169852 non-null  uint8  \n",
      " 52  paint_color_green           169852 non-null  uint8  \n",
      " 53  paint_color_grey            169852 non-null  uint8  \n",
      " 54  paint_color_orange          169852 non-null  uint8  \n",
      " 55  paint_color_purple          169852 non-null  uint8  \n",
      " 56  paint_color_red             169852 non-null  uint8  \n",
      " 57  paint_color_silver          169852 non-null  uint8  \n",
      " 58  paint_color_white           169852 non-null  uint8  \n",
      " 59  paint_color_yellow          169852 non-null  uint8  \n",
      " 60  transmission_manual         169852 non-null  uint8  \n",
      " 61  transmission_other          169852 non-null  uint8  \n",
      " 62  type_bus                    169852 non-null  uint8  \n",
      " 63  type_convertible            169852 non-null  uint8  \n",
      " 64  type_coupe                  169852 non-null  uint8  \n",
      " 65  type_hatchback              169852 non-null  uint8  \n",
      " 66  type_mini-van               169852 non-null  uint8  \n",
      " 67  type_offroad                169852 non-null  uint8  \n",
      " 68  type_other                  169852 non-null  uint8  \n",
      " 69  type_pickup                 169852 non-null  uint8  \n",
      " 70  type_sedan                  169852 non-null  uint8  \n",
      " 71  type_truck                  169852 non-null  uint8  \n",
      " 72  type_van                    169852 non-null  uint8  \n",
      " 73  type_wagon                  169852 non-null  uint8  \n",
      "dtypes: float64(2), int64(1), uint8(71)\n",
      "memory usage: 15.4 MB\n"
     ]
    }
   ],
   "source": [
    "df.info()"
   ]
  },
  {
   "cell_type": "code",
   "execution_count": 12,
   "id": "c7c8f922",
   "metadata": {},
   "outputs": [],
   "source": [
    "df.to_csv('../data/processed/vehicles.csv', index=False)"
   ]
  },
  {
   "cell_type": "code",
   "execution_count": 13,
   "id": "73803258",
   "metadata": {},
   "outputs": [],
   "source": [
    "del df"
   ]
  }
 ],
 "metadata": {
  "kernelspec": {
   "display_name": "Python 3.8.10 64-bit",
   "language": "python",
   "name": "python3810jvsc74a57bd031f2aee4e71d21fbe5cf8b01ff0e069b9275f58929596ceb00d14d90e3e16cd6"
  },
  "language_info": {
   "codemirror_mode": {
    "name": "ipython",
    "version": 3
   },
   "file_extension": ".py",
   "mimetype": "text/x-python",
   "name": "python",
   "nbconvert_exporter": "python",
   "pygments_lexer": "ipython3",
   "version": "3.8.10"
  }
 },
 "nbformat": 4,
 "nbformat_minor": 5
}
