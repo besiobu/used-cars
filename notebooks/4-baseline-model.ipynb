{
 "cells": [
  {
   "cell_type": "code",
   "execution_count": 1,
   "id": "94ee9c07",
   "metadata": {},
   "outputs": [],
   "source": [
    "import pandas as pd\n",
    "\n",
    "from joblib import dump\n",
    "from sklearn.dummy import DummyRegressor\n",
    "from sklearn.metrics import mean_squared_error"
   ]
  },
  {
   "cell_type": "markdown",
   "id": "bd186506",
   "metadata": {},
   "source": [
    "# 3-baseline-model"
   ]
  },
  {
   "cell_type": "code",
   "execution_count": 2,
   "id": "b5634b8e",
   "metadata": {},
   "outputs": [],
   "source": [
    "X_train = pd.read_csv('../data/processed/train_features.csv')\n",
    "y_train = pd.read_csv('../data/processed/train_target.csv')"
   ]
  },
  {
   "cell_type": "code",
   "execution_count": 3,
   "id": "add58839",
   "metadata": {},
   "outputs": [],
   "source": [
    "X_test = pd.read_csv('../data/processed/test_features.csv')\n",
    "y_test = pd.read_csv('../data/processed/test_target.csv')"
   ]
  },
  {
   "cell_type": "code",
   "execution_count": 4,
   "id": "01cb7850",
   "metadata": {},
   "outputs": [
    {
     "data": {
      "text/html": [
       "<div>\n",
       "<style scoped>\n",
       "    .dataframe tbody tr th:only-of-type {\n",
       "        vertical-align: middle;\n",
       "    }\n",
       "\n",
       "    .dataframe tbody tr th {\n",
       "        vertical-align: top;\n",
       "    }\n",
       "\n",
       "    .dataframe thead th {\n",
       "        text-align: right;\n",
       "    }\n",
       "</style>\n",
       "<table border=\"1\" class=\"dataframe\">\n",
       "  <thead>\n",
       "    <tr style=\"text-align: right;\">\n",
       "      <th></th>\n",
       "      <th>condition</th>\n",
       "      <th>cylinders</th>\n",
       "      <th>drive</th>\n",
       "      <th>fuel</th>\n",
       "      <th>lat</th>\n",
       "      <th>long</th>\n",
       "      <th>manufacturer</th>\n",
       "      <th>model</th>\n",
       "      <th>odometer</th>\n",
       "      <th>paint_color</th>\n",
       "      <th>...</th>\n",
       "      <th>type_coupe</th>\n",
       "      <th>type_hatchback</th>\n",
       "      <th>type_mini-van</th>\n",
       "      <th>type_offroad</th>\n",
       "      <th>type_other</th>\n",
       "      <th>type_pickup</th>\n",
       "      <th>type_sedan</th>\n",
       "      <th>type_truck</th>\n",
       "      <th>type_van</th>\n",
       "      <th>type_wagon</th>\n",
       "    </tr>\n",
       "  </thead>\n",
       "  <tbody>\n",
       "    <tr>\n",
       "      <th>0</th>\n",
       "      <td>excellent</td>\n",
       "      <td>4 cylinders</td>\n",
       "      <td>fwd</td>\n",
       "      <td>gas</td>\n",
       "      <td>36.143633</td>\n",
       "      <td>-115.115449</td>\n",
       "      <td>dodge</td>\n",
       "      <td>dart</td>\n",
       "      <td>81861.0</td>\n",
       "      <td>white</td>\n",
       "      <td>...</td>\n",
       "      <td>0</td>\n",
       "      <td>0</td>\n",
       "      <td>0</td>\n",
       "      <td>0</td>\n",
       "      <td>0</td>\n",
       "      <td>0</td>\n",
       "      <td>1</td>\n",
       "      <td>0</td>\n",
       "      <td>0</td>\n",
       "      <td>0</td>\n",
       "    </tr>\n",
       "    <tr>\n",
       "      <th>1</th>\n",
       "      <td>excellent</td>\n",
       "      <td>8 cylinders</td>\n",
       "      <td>4wd</td>\n",
       "      <td>gas</td>\n",
       "      <td>35.871300</td>\n",
       "      <td>-80.091300</td>\n",
       "      <td>gmc</td>\n",
       "      <td>sierra</td>\n",
       "      <td>121000.0</td>\n",
       "      <td>white</td>\n",
       "      <td>...</td>\n",
       "      <td>0</td>\n",
       "      <td>0</td>\n",
       "      <td>0</td>\n",
       "      <td>0</td>\n",
       "      <td>0</td>\n",
       "      <td>0</td>\n",
       "      <td>0</td>\n",
       "      <td>1</td>\n",
       "      <td>0</td>\n",
       "      <td>0</td>\n",
       "    </tr>\n",
       "    <tr>\n",
       "      <th>2</th>\n",
       "      <td>like new</td>\n",
       "      <td>8 cylinders</td>\n",
       "      <td>4wd</td>\n",
       "      <td>gas</td>\n",
       "      <td>42.463800</td>\n",
       "      <td>-123.345700</td>\n",
       "      <td>gmc</td>\n",
       "      <td>sierra 1500</td>\n",
       "      <td>46000.0</td>\n",
       "      <td>silver</td>\n",
       "      <td>...</td>\n",
       "      <td>0</td>\n",
       "      <td>0</td>\n",
       "      <td>0</td>\n",
       "      <td>0</td>\n",
       "      <td>0</td>\n",
       "      <td>1</td>\n",
       "      <td>0</td>\n",
       "      <td>0</td>\n",
       "      <td>0</td>\n",
       "      <td>0</td>\n",
       "    </tr>\n",
       "    <tr>\n",
       "      <th>3</th>\n",
       "      <td>excellent</td>\n",
       "      <td>4 cylinders</td>\n",
       "      <td>4wd</td>\n",
       "      <td>gas</td>\n",
       "      <td>27.588500</td>\n",
       "      <td>-80.392300</td>\n",
       "      <td>audi</td>\n",
       "      <td>tt</td>\n",
       "      <td>121112.0</td>\n",
       "      <td>white</td>\n",
       "      <td>...</td>\n",
       "      <td>1</td>\n",
       "      <td>0</td>\n",
       "      <td>0</td>\n",
       "      <td>0</td>\n",
       "      <td>0</td>\n",
       "      <td>0</td>\n",
       "      <td>0</td>\n",
       "      <td>0</td>\n",
       "      <td>0</td>\n",
       "      <td>0</td>\n",
       "    </tr>\n",
       "    <tr>\n",
       "      <th>4</th>\n",
       "      <td>good</td>\n",
       "      <td>6 cylinders</td>\n",
       "      <td>4wd</td>\n",
       "      <td>gas</td>\n",
       "      <td>44.083056</td>\n",
       "      <td>-123.153025</td>\n",
       "      <td>chevrolet</td>\n",
       "      <td>trailblazer</td>\n",
       "      <td>120720.0</td>\n",
       "      <td>silver</td>\n",
       "      <td>...</td>\n",
       "      <td>0</td>\n",
       "      <td>0</td>\n",
       "      <td>0</td>\n",
       "      <td>0</td>\n",
       "      <td>0</td>\n",
       "      <td>0</td>\n",
       "      <td>0</td>\n",
       "      <td>0</td>\n",
       "      <td>0</td>\n",
       "      <td>0</td>\n",
       "    </tr>\n",
       "  </tbody>\n",
       "</table>\n",
       "<p>5 rows × 94 columns</p>\n",
       "</div>"
      ],
      "text/plain": [
       "   condition    cylinders drive fuel        lat        long manufacturer  \\\n",
       "0  excellent  4 cylinders   fwd  gas  36.143633 -115.115449        dodge   \n",
       "1  excellent  8 cylinders   4wd  gas  35.871300  -80.091300          gmc   \n",
       "2   like new  8 cylinders   4wd  gas  42.463800 -123.345700          gmc   \n",
       "3  excellent  4 cylinders   4wd  gas  27.588500  -80.392300         audi   \n",
       "4       good  6 cylinders   4wd  gas  44.083056 -123.153025    chevrolet   \n",
       "\n",
       "         model  odometer paint_color  ... type_coupe type_hatchback  \\\n",
       "0         dart   81861.0       white  ...          0              0   \n",
       "1       sierra  121000.0       white  ...          0              0   \n",
       "2  sierra 1500   46000.0      silver  ...          0              0   \n",
       "3           tt  121112.0       white  ...          1              0   \n",
       "4  trailblazer  120720.0      silver  ...          0              0   \n",
       "\n",
       "  type_mini-van  type_offroad  type_other  type_pickup  type_sedan  \\\n",
       "0             0             0           0            0           1   \n",
       "1             0             0           0            0           0   \n",
       "2             0             0           0            1           0   \n",
       "3             0             0           0            0           0   \n",
       "4             0             0           0            0           0   \n",
       "\n",
       "   type_truck  type_van  type_wagon  \n",
       "0           0         0           0  \n",
       "1           1         0           0  \n",
       "2           0         0           0  \n",
       "3           0         0           0  \n",
       "4           0         0           0  \n",
       "\n",
       "[5 rows x 94 columns]"
      ]
     },
     "execution_count": 4,
     "metadata": {},
     "output_type": "execute_result"
    }
   ],
   "source": [
    "X_train.head()"
   ]
  },
  {
   "cell_type": "code",
   "execution_count": 5,
   "id": "64b4ac6a",
   "metadata": {},
   "outputs": [
    {
     "data": {
      "text/plain": [
       "(176861, 94)"
      ]
     },
     "execution_count": 5,
     "metadata": {},
     "output_type": "execute_result"
    }
   ],
   "source": [
    "X_train.shape"
   ]
  },
  {
   "cell_type": "markdown",
   "id": "225a09ef",
   "metadata": {},
   "source": [
    "## Model bazowy"
   ]
  },
  {
   "cell_type": "code",
   "execution_count": 6,
   "id": "781ab3e3",
   "metadata": {},
   "outputs": [],
   "source": [
    "dummy = DummyRegressor(strategy='mean')"
   ]
  },
  {
   "cell_type": "code",
   "execution_count": 7,
   "id": "80e886d2",
   "metadata": {},
   "outputs": [
    {
     "data": {
      "text/plain": [
       "DummyRegressor()"
      ]
     },
     "execution_count": 7,
     "metadata": {},
     "output_type": "execute_result"
    }
   ],
   "source": [
    "dummy.fit(X_train, y_train)"
   ]
  },
  {
   "cell_type": "code",
   "execution_count": 8,
   "id": "6eaee018",
   "metadata": {},
   "outputs": [],
   "source": [
    "y_pred = dummy.predict(X_test)"
   ]
  },
  {
   "cell_type": "code",
   "execution_count": 9,
   "id": "777e5654",
   "metadata": {},
   "outputs": [
    {
     "data": {
      "text/plain": [
       "['../models/dummy.joblib']"
      ]
     },
     "execution_count": 9,
     "metadata": {},
     "output_type": "execute_result"
    }
   ],
   "source": [
    "dump(dummy, '../models/dummy.joblib')"
   ]
  },
  {
   "cell_type": "code",
   "execution_count": 10,
   "id": "727b9161",
   "metadata": {},
   "outputs": [
    {
     "data": {
      "text/plain": [
       "12056.820175501187"
      ]
     },
     "execution_count": 10,
     "metadata": {},
     "output_type": "execute_result"
    }
   ],
   "source": [
    "mean_squared_error(y_test, y_pred, squared=False)"
   ]
  }
 ],
 "metadata": {
  "kernelspec": {
   "display_name": "Python 3.8.10 64-bit",
   "language": "python",
   "name": "python3810jvsc74a57bd031f2aee4e71d21fbe5cf8b01ff0e069b9275f58929596ceb00d14d90e3e16cd6"
  },
  "language_info": {
   "codemirror_mode": {
    "name": "ipython",
    "version": 3
   },
   "file_extension": ".py",
   "mimetype": "text/x-python",
   "name": "python",
   "nbconvert_exporter": "python",
   "pygments_lexer": "ipython3",
   "version": "3.8.10"
  }
 },
 "nbformat": 4,
 "nbformat_minor": 5
}
