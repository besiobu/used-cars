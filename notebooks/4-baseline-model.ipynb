{
 "cells": [
  {
   "cell_type": "code",
   "execution_count": 1,
   "id": "94ee9c07",
   "metadata": {},
   "outputs": [],
   "source": [
    "import pandas as pd\n",
    "\n",
    "from joblib import dump\n",
    "from sklearn.dummy import DummyRegressor\n",
    "from sklearn.metrics import mean_squared_error"
   ]
  },
  {
   "cell_type": "markdown",
   "id": "bd186506",
   "metadata": {},
   "source": [
    "# 4-baseline-model"
   ]
  },
  {
   "cell_type": "markdown",
   "id": "e004e822",
   "metadata": {},
   "source": [
    "Dane pochodzą z:\n",
    "* https://www.kaggle.com/austinreese/craigslist-carstrucks-data\n",
    "* https://github.com/AustinReese/UsedVehicleSearch"
   ]
  },
  {
   "cell_type": "code",
   "execution_count": 2,
   "id": "b5634b8e",
   "metadata": {},
   "outputs": [],
   "source": [
    "X_train = pd.read_csv('../data/processed/train_features.csv')\n",
    "y_train = pd.read_csv('../data/processed/train_target.csv')"
   ]
  },
  {
   "cell_type": "code",
   "execution_count": 3,
   "id": "add58839",
   "metadata": {},
   "outputs": [],
   "source": [
    "X_test = pd.read_csv('../data/processed/test_features.csv')\n",
    "y_test = pd.read_csv('../data/processed/test_target.csv')"
   ]
  },
  {
   "cell_type": "code",
   "execution_count": 4,
   "id": "a47112c7",
   "metadata": {},
   "outputs": [
    {
     "data": {
      "text/plain": [
       "(113800, 73)"
      ]
     },
     "execution_count": 4,
     "metadata": {},
     "output_type": "execute_result"
    }
   ],
   "source": [
    "X_train.shape"
   ]
  },
  {
   "cell_type": "markdown",
   "id": "225a09ef",
   "metadata": {},
   "source": [
    "## Model bazowy"
   ]
  },
  {
   "cell_type": "code",
   "execution_count": 5,
   "id": "781ab3e3",
   "metadata": {},
   "outputs": [],
   "source": [
    "dummy = DummyRegressor(strategy='mean')"
   ]
  },
  {
   "cell_type": "code",
   "execution_count": 6,
   "id": "80e886d2",
   "metadata": {},
   "outputs": [
    {
     "data": {
      "text/plain": [
       "DummyRegressor()"
      ]
     },
     "execution_count": 6,
     "metadata": {},
     "output_type": "execute_result"
    }
   ],
   "source": [
    "dummy.fit(X_train, y_train)"
   ]
  },
  {
   "cell_type": "code",
   "execution_count": 7,
   "id": "6eaee018",
   "metadata": {},
   "outputs": [],
   "source": [
    "y_pred = dummy.predict(X_test)"
   ]
  },
  {
   "cell_type": "code",
   "execution_count": 8,
   "id": "777e5654",
   "metadata": {},
   "outputs": [
    {
     "data": {
      "text/plain": [
       "['../models/dummy.joblib']"
      ]
     },
     "execution_count": 8,
     "metadata": {},
     "output_type": "execute_result"
    }
   ],
   "source": [
    "dump(dummy, '../models/dummy.joblib')"
   ]
  },
  {
   "cell_type": "code",
   "execution_count": 9,
   "id": "727b9161",
   "metadata": {},
   "outputs": [
    {
     "data": {
      "text/plain": [
       "10932.221730626849"
      ]
     },
     "execution_count": 9,
     "metadata": {},
     "output_type": "execute_result"
    }
   ],
   "source": [
    "mean_squared_error(y_test, y_pred, squared=False)"
   ]
  },
  {
   "cell_type": "code",
   "execution_count": 10,
   "id": "4efee8e4",
   "metadata": {},
   "outputs": [],
   "source": [
    "del X_train\n",
    "del X_test\n",
    "del y_train\n",
    "del y_test"
   ]
  }
 ],
 "metadata": {
  "kernelspec": {
   "display_name": "Python 3.8.10 64-bit",
   "language": "python",
   "name": "python3810jvsc74a57bd031f2aee4e71d21fbe5cf8b01ff0e069b9275f58929596ceb00d14d90e3e16cd6"
  },
  "language_info": {
   "codemirror_mode": {
    "name": "ipython",
    "version": 3
   },
   "file_extension": ".py",
   "mimetype": "text/x-python",
   "name": "python",
   "nbconvert_exporter": "python",
   "pygments_lexer": "ipython3",
   "version": "3.8.10"
  }
 },
 "nbformat": 4,
 "nbformat_minor": 5
}
