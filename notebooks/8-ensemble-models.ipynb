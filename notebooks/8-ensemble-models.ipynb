{
 "cells": [
  {
   "cell_type": "code",
   "execution_count": 1,
   "id": "f3afe69f",
   "metadata": {},
   "outputs": [],
   "source": [
    "import pandas as pd\n",
    "import matplotlib.pyplot as plt\n",
    "import time\n",
    "\n",
    "from joblib import dump\n",
    "from sklearn.linear_model import LinearRegression, ElasticNet\n",
    "from sklearn.tree import DecisionTreeRegressor\n",
    "from sklearn.ensemble import AdaBoostRegressor, VotingRegressor, RandomForestRegressor\n",
    "from sklearn.model_selection import GridSearchCV, KFold\n",
    "from sklearn.metrics import mean_squared_error\n",
    "from sklearn.preprocessing import StandardScaler"
   ]
  },
  {
   "cell_type": "code",
   "execution_count": 2,
   "id": "fea378a2",
   "metadata": {},
   "outputs": [],
   "source": [
    "plt.style.use('ggplot')"
   ]
  },
  {
   "cell_type": "markdown",
   "id": "b7a083c9",
   "metadata": {},
   "source": [
    "# 8-ensemble-models"
   ]
  },
  {
   "cell_type": "code",
   "execution_count": 3,
   "id": "3e27cbce",
   "metadata": {},
   "outputs": [],
   "source": [
    "X_train = pd.read_csv('../data/processed/train_features.csv')\n",
    "y_train = pd.read_csv('../data/processed/train_target.csv')"
   ]
  },
  {
   "cell_type": "code",
   "execution_count": 4,
   "id": "9d931728",
   "metadata": {},
   "outputs": [],
   "source": [
    "X_test = pd.read_csv('../data/processed/test_features.csv')\n",
    "y_test = pd.read_csv('../data/processed/test_target.csv')"
   ]
  },
  {
   "cell_type": "code",
   "execution_count": 5,
   "id": "1832bfaa",
   "metadata": {},
   "outputs": [],
   "source": [
    "X_train = X_train.select_dtypes('number')\n",
    "X_test = X_test.select_dtypes('number')"
   ]
  },
  {
   "cell_type": "code",
   "execution_count": 6,
   "id": "203c9f1f",
   "metadata": {},
   "outputs": [],
   "source": [
    "cols = X_train.columns.tolist()"
   ]
  },
  {
   "cell_type": "code",
   "execution_count": 7,
   "id": "bc59a1c4",
   "metadata": {},
   "outputs": [],
   "source": [
    "assert list(X_train.columns) == list(X_test.columns)"
   ]
  },
  {
   "cell_type": "code",
   "execution_count": 8,
   "id": "651c449f",
   "metadata": {},
   "outputs": [],
   "source": [
    "feature_scaler = StandardScaler()\n",
    "target_scaler = StandardScaler()"
   ]
  },
  {
   "cell_type": "code",
   "execution_count": 9,
   "id": "44f2e030",
   "metadata": {},
   "outputs": [],
   "source": [
    "X_train = feature_scaler.fit_transform(X_train)\n",
    "X_test = feature_scaler.transform(X_test)"
   ]
  },
  {
   "cell_type": "code",
   "execution_count": 10,
   "id": "1583f6f8",
   "metadata": {},
   "outputs": [],
   "source": [
    "y_train = target_scaler.fit_transform(y_train)\n",
    "y_test = target_scaler.transform(y_test)"
   ]
  },
  {
   "cell_type": "code",
   "execution_count": 11,
   "id": "fa9e3bff",
   "metadata": {},
   "outputs": [],
   "source": [
    "cv = KFold(n_splits=10, shuffle=True, random_state=42)"
   ]
  },
  {
   "cell_type": "markdown",
   "id": "3ad5ea4e",
   "metadata": {},
   "source": [
    "## Sample from training set"
   ]
  },
  {
   "cell_type": "markdown",
   "id": "66dba5e9",
   "metadata": {},
   "source": [
    "For performance reasons."
   ]
  },
  {
   "cell_type": "code",
   "execution_count": 12,
   "id": "24ce2d6d",
   "metadata": {},
   "outputs": [],
   "source": [
    "# import numpy as np\n",
    "# np.random.seed(42)\n",
    "# # mask = np.random.choice(np.arange(X_train.shape[0]), size=5 * 10 ** 4, replace=False)\n",
    "# # mask = np.ones(shape=(50000,))"
   ]
  },
  {
   "cell_type": "markdown",
   "id": "bf9600ea",
   "metadata": {},
   "source": [
    "## Adaboost"
   ]
  },
  {
   "cell_type": "code",
   "execution_count": 13,
   "id": "32a8f33d",
   "metadata": {},
   "outputs": [],
   "source": [
    "param_grid = {\n",
    "    'n_estimators': [20, 40, 60, 80, 100],\n",
    "    'learning_rate': [10** i for i in range(-4, 2)]\n",
    "}"
   ]
  },
  {
   "cell_type": "markdown",
   "id": "428564a0",
   "metadata": {},
   "source": [
    "### With linear regression"
   ]
  },
  {
   "cell_type": "code",
   "execution_count": 14,
   "id": "44d472a1",
   "metadata": {},
   "outputs": [],
   "source": [
    "est = LinearRegression()"
   ]
  },
  {
   "cell_type": "code",
   "execution_count": 15,
   "id": "e995b1d7",
   "metadata": {},
   "outputs": [],
   "source": [
    "mdl = AdaBoostRegressor(est, random_state=42)"
   ]
  },
  {
   "cell_type": "code",
   "execution_count": 16,
   "id": "d052b337",
   "metadata": {},
   "outputs": [
    {
     "name": "stdout",
     "output_type": "stream",
     "text": [
      "Fitting 2 folds for each of 30 candidates, totalling 60 fits\n",
      "1061.8125150203705\n"
     ]
    }
   ],
   "source": [
    "t1 = time.time()\n",
    "gscv = GridSearchCV(mdl, n_jobs=-1, cv=2, param_grid=param_grid, verbose=1)\n",
    "# gscv.fit(X_train[mask], y_train[mask].ravel())\n",
    "gscv.fit(X_train, y_train.ravel())\n",
    "t2 = time.time()\n",
    "print(t2 - t1)"
   ]
  },
  {
   "cell_type": "code",
   "execution_count": 17,
   "id": "928fa42e",
   "metadata": {},
   "outputs": [
    {
     "data": {
      "text/plain": [
       "AdaBoostRegressor(base_estimator=LinearRegression(), learning_rate=0.0001,\n",
       "                  n_estimators=20, random_state=42)"
      ]
     },
     "execution_count": 17,
     "metadata": {},
     "output_type": "execute_result"
    }
   ],
   "source": [
    "mdl = gscv.best_estimator_\n",
    "mdl"
   ]
  },
  {
   "cell_type": "code",
   "execution_count": 18,
   "id": "dd63c686",
   "metadata": {},
   "outputs": [
    {
     "data": {
      "text/plain": [
       "['../models/ada_linear.joblib']"
      ]
     },
     "execution_count": 18,
     "metadata": {},
     "output_type": "execute_result"
    }
   ],
   "source": [
    "dump(mdl, '../models/ada_linear.joblib')"
   ]
  },
  {
   "cell_type": "code",
   "execution_count": 19,
   "id": "55e32f0c",
   "metadata": {},
   "outputs": [],
   "source": [
    "y_pred = mdl.predict(X_test)"
   ]
  },
  {
   "cell_type": "code",
   "execution_count": 20,
   "id": "a229e6e8",
   "metadata": {},
   "outputs": [
    {
     "data": {
      "text/plain": [
       "6127.8302183551705"
      ]
     },
     "execution_count": 20,
     "metadata": {},
     "output_type": "execute_result"
    }
   ],
   "source": [
    "mean_squared_error(\n",
    "    target_scaler.inverse_transform(y_train),\n",
    "    target_scaler.inverse_transform(mdl.predict(X_train).reshape(-1,1)),\n",
    "    squared=False\n",
    ")"
   ]
  },
  {
   "cell_type": "code",
   "execution_count": 21,
   "id": "ef571e69",
   "metadata": {},
   "outputs": [
    {
     "data": {
      "text/plain": [
       "6155.544662694408"
      ]
     },
     "execution_count": 21,
     "metadata": {},
     "output_type": "execute_result"
    }
   ],
   "source": [
    "mean_squared_error(\n",
    "    target_scaler.inverse_transform(y_test),\n",
    "    target_scaler.inverse_transform(mdl.predict(X_test).reshape(-1,1)),\n",
    "    squared=False\n",
    ")"
   ]
  },
  {
   "cell_type": "markdown",
   "id": "d30d35ac",
   "metadata": {},
   "source": [
    "### With a decision stump"
   ]
  },
  {
   "cell_type": "code",
   "execution_count": 22,
   "id": "52c573cd",
   "metadata": {},
   "outputs": [],
   "source": [
    "est = DecisionTreeRegressor(max_depth=2, random_state=42)"
   ]
  },
  {
   "cell_type": "code",
   "execution_count": 23,
   "id": "8b9c7c43",
   "metadata": {},
   "outputs": [],
   "source": [
    "mdl = AdaBoostRegressor(est, random_state=42)"
   ]
  },
  {
   "cell_type": "code",
   "execution_count": 24,
   "id": "ae153ff5",
   "metadata": {},
   "outputs": [
    {
     "name": "stdout",
     "output_type": "stream",
     "text": [
      "Fitting 2 folds for each of 30 candidates, totalling 60 fits\n",
      "199.77643728256226\n"
     ]
    }
   ],
   "source": [
    "t1 = time.time()\n",
    "gscv = GridSearchCV(mdl, n_jobs=8, cv=2, param_grid=param_grid, verbose=1)\n",
    "# gscv.fit(X_train[mask], y_train[mask].ravel())\n",
    "gscv.fit(X_train, y_train.ravel())\n",
    "t2 = time.time()\n",
    "print(t2 - t1)"
   ]
  },
  {
   "cell_type": "code",
   "execution_count": 25,
   "id": "4c7cfff4",
   "metadata": {},
   "outputs": [
    {
     "data": {
      "text/plain": [
       "AdaBoostRegressor(base_estimator=DecisionTreeRegressor(max_depth=2,\n",
       "                                                       random_state=42),\n",
       "                  learning_rate=0.1, n_estimators=60, random_state=42)"
      ]
     },
     "execution_count": 25,
     "metadata": {},
     "output_type": "execute_result"
    }
   ],
   "source": [
    "mdl = gscv.best_estimator_\n",
    "mdl"
   ]
  },
  {
   "cell_type": "code",
   "execution_count": 26,
   "id": "b8ae3028",
   "metadata": {},
   "outputs": [
    {
     "data": {
      "text/plain": [
       "['../models/ada_stump.joblib']"
      ]
     },
     "execution_count": 26,
     "metadata": {},
     "output_type": "execute_result"
    }
   ],
   "source": [
    "dump(mdl, '../models/ada_stump.joblib')"
   ]
  },
  {
   "cell_type": "code",
   "execution_count": 27,
   "id": "d11d83a0",
   "metadata": {},
   "outputs": [],
   "source": [
    "y_pred = mdl.predict(X_test)"
   ]
  },
  {
   "cell_type": "code",
   "execution_count": 28,
   "id": "c5eb015a",
   "metadata": {},
   "outputs": [
    {
     "data": {
      "text/plain": [
       "7782.929549234288"
      ]
     },
     "execution_count": 28,
     "metadata": {},
     "output_type": "execute_result"
    }
   ],
   "source": [
    "mean_squared_error(\n",
    "    target_scaler.inverse_transform(y_train),\n",
    "    target_scaler.inverse_transform(mdl.predict(X_train).reshape(-1,1)),\n",
    "    squared=False\n",
    ")"
   ]
  },
  {
   "cell_type": "code",
   "execution_count": 29,
   "id": "35545e99",
   "metadata": {},
   "outputs": [
    {
     "data": {
      "text/plain": [
       "7763.976955728294"
      ]
     },
     "execution_count": 29,
     "metadata": {},
     "output_type": "execute_result"
    }
   ],
   "source": [
    "mean_squared_error(\n",
    "    target_scaler.inverse_transform(y_test),\n",
    "    target_scaler.inverse_transform(mdl.predict(X_test).reshape(-1,1)),\n",
    "    squared=False\n",
    ")"
   ]
  },
  {
   "cell_type": "markdown",
   "id": "45d0d8a4",
   "metadata": {},
   "source": [
    "## Voting Regressor"
   ]
  },
  {
   "cell_type": "code",
   "execution_count": 30,
   "id": "17ae30a8",
   "metadata": {
    "scrolled": false
   },
   "outputs": [
    {
     "name": "stdout",
     "output_type": "stream",
     "text": [
      "21.470 0.100 6327.966\n",
      "21.536 0.200 6522.458\n",
      "21.603 0.300 6806.104\n",
      "21.339 0.400 7168.328\n",
      "21.374 0.500 7597.900\n",
      "22.281 0.600 8084.091\n",
      "21.664 0.700 8617.323\n",
      "21.313 0.800 9189.411\n",
      "21.397 0.900 9793.547\n"
     ]
    }
   ],
   "source": [
    "weights = [i/10 for i in range(1, 10)]\n",
    "scores = list()\n",
    "\n",
    "for w in weights:\n",
    "    vote = VotingRegressor(\n",
    "        estimators=[\n",
    "            ('elastic', ElasticNet(random_state=42, max_iter=10_000)),\n",
    "            ('forest', RandomForestRegressor(max_depth=6, n_estimators=100, random_state=42))\n",
    "        ],\n",
    "        weights=[w, 1 - w]\n",
    "    )\n",
    "\n",
    "    dump(vote, f'../models/vote{w}.joblib')\n",
    "    \n",
    "    t1 = time.time()\n",
    "#     vote.fit(X_train[mask], y_train[mask].ravel())\n",
    "    vote.fit(X_train, y_train.ravel())\n",
    "    t2 = time.time()\n",
    "    \n",
    "    y_pred = vote.predict(X_test)\n",
    "    rmse = mean_squared_error(\n",
    "        target_scaler.inverse_transform(y_test),\n",
    "        target_scaler.inverse_transform(y_pred.reshape(-1, 1)),\n",
    "        squared=False\n",
    "    )\n",
    "    \n",
    "    scores.append((w, rmse))\n",
    "    print(f'{t2 - t1:5.3f} {w:5.3f} {rmse:5.3f}')"
   ]
  }
 ],
 "metadata": {
  "kernelspec": {
   "display_name": "Python 3.8.10 64-bit",
   "language": "python",
   "name": "python3810jvsc74a57bd031f2aee4e71d21fbe5cf8b01ff0e069b9275f58929596ceb00d14d90e3e16cd6"
  },
  "language_info": {
   "codemirror_mode": {
    "name": "ipython",
    "version": 3
   },
   "file_extension": ".py",
   "mimetype": "text/x-python",
   "name": "python",
   "nbconvert_exporter": "python",
   "pygments_lexer": "ipython3",
   "version": "3.8.10"
  }
 },
 "nbformat": 4,
 "nbformat_minor": 5
}
