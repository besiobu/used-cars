{
 "cells": [
  {
   "cell_type": "code",
   "execution_count": 1,
   "id": "f3afe69f",
   "metadata": {},
   "outputs": [],
   "source": [
    "import pandas as pd\n",
    "import matplotlib.pyplot as plt\n",
    "import time\n",
    "\n",
    "from joblib import dump\n",
    "from sklearn.neural_network import MLPRegressor\n",
    "from sklearn.model_selection import GridSearchCV, KFold\n",
    "from sklearn.metrics import mean_squared_error\n",
    "from sklearn.preprocessing import MinMaxScaler"
   ]
  },
  {
   "cell_type": "code",
   "execution_count": 2,
   "id": "fea378a2",
   "metadata": {},
   "outputs": [],
   "source": [
    "plt.style.use('ggplot')"
   ]
  },
  {
   "cell_type": "markdown",
   "id": "b7a083c9",
   "metadata": {},
   "source": [
    "# 7-neural-networks"
   ]
  },
  {
   "cell_type": "code",
   "execution_count": 3,
   "id": "3e27cbce",
   "metadata": {},
   "outputs": [],
   "source": [
    "X_train = pd.read_csv('../data/processed/train_features.csv')\n",
    "y_train = pd.read_csv('../data/processed/train_target.csv')"
   ]
  },
  {
   "cell_type": "code",
   "execution_count": 4,
   "id": "9d931728",
   "metadata": {},
   "outputs": [],
   "source": [
    "X_test = pd.read_csv('../data/processed/test_features.csv')\n",
    "y_test = pd.read_csv('../data/processed/test_target.csv')"
   ]
  },
  {
   "cell_type": "code",
   "execution_count": 5,
   "id": "1832bfaa",
   "metadata": {},
   "outputs": [],
   "source": [
    "X_train = X_train.select_dtypes('number')\n",
    "X_test = X_test.select_dtypes('number')"
   ]
  },
  {
   "cell_type": "code",
   "execution_count": 6,
   "id": "203c9f1f",
   "metadata": {},
   "outputs": [],
   "source": [
    "cols = X_train.columns.tolist()"
   ]
  },
  {
   "cell_type": "code",
   "execution_count": 7,
   "id": "bc59a1c4",
   "metadata": {},
   "outputs": [],
   "source": [
    "assert list(X_train.columns) == list(X_test.columns)"
   ]
  },
  {
   "cell_type": "code",
   "execution_count": 8,
   "id": "651c449f",
   "metadata": {},
   "outputs": [],
   "source": [
    "feature_scaler = MinMaxScaler()\n",
    "target_scaler = MinMaxScaler()"
   ]
  },
  {
   "cell_type": "code",
   "execution_count": 9,
   "id": "44f2e030",
   "metadata": {},
   "outputs": [],
   "source": [
    "X_train = feature_scaler.fit_transform(X_train)\n",
    "X_test = feature_scaler.transform(X_test)"
   ]
  },
  {
   "cell_type": "code",
   "execution_count": 10,
   "id": "1583f6f8",
   "metadata": {},
   "outputs": [],
   "source": [
    "y_train = target_scaler.fit_transform(y_train)\n",
    "y_test = target_scaler.transform(y_test)"
   ]
  },
  {
   "cell_type": "markdown",
   "id": "bf9600ea",
   "metadata": {},
   "source": [
    "## Multi-layer perceptron"
   ]
  },
  {
   "cell_type": "code",
   "execution_count": 11,
   "id": "5c98a97b",
   "metadata": {},
   "outputs": [],
   "source": [
    "cv = KFold(n_splits=10, shuffle=True, random_state=42)"
   ]
  },
  {
   "cell_type": "code",
   "execution_count": 12,
   "id": "5c3fc849",
   "metadata": {},
   "outputs": [],
   "source": [
    "param_grid = {\n",
    "    'hidden_layer_sizes': [(50,), (50, 50), (100, 100), (50, 100, 50)],\n",
    "    'alpha': [1, 0.1, 0.01, 0.001, 0.0001]    \n",
    "}"
   ]
  },
  {
   "cell_type": "code",
   "execution_count": 13,
   "id": "2d989c29",
   "metadata": {},
   "outputs": [],
   "source": [
    "mlp = MLPRegressor(random_state=42)"
   ]
  },
  {
   "cell_type": "code",
   "execution_count": 14,
   "id": "3d4cec31",
   "metadata": {},
   "outputs": [
    {
     "name": "stdout",
     "output_type": "stream",
     "text": [
      "Fitting 10 folds for each of 20 candidates, totalling 200 fits\n",
      "273.1191759109497\n"
     ]
    }
   ],
   "source": [
    "t1 = time.time()\n",
    "gscv = GridSearchCV(mlp, n_jobs=-1, cv=cv, param_grid=param_grid, verbose=1)\n",
    "gscv.fit(X_train, y_train.ravel())\n",
    "t2 = time.time()\n",
    "print(t2 - t1)"
   ]
  },
  {
   "cell_type": "code",
   "execution_count": 15,
   "id": "ecd248a7",
   "metadata": {},
   "outputs": [
    {
     "data": {
      "text/plain": [
       "MLPRegressor(alpha=0.001, hidden_layer_sizes=(100, 100), random_state=42)"
      ]
     },
     "execution_count": 15,
     "metadata": {},
     "output_type": "execute_result"
    }
   ],
   "source": [
    "mlp = gscv.best_estimator_\n",
    "mlp"
   ]
  },
  {
   "cell_type": "code",
   "execution_count": 16,
   "id": "29d608a4",
   "metadata": {},
   "outputs": [
    {
     "data": {
      "text/plain": [
       "['../models/mlp.joblib']"
      ]
     },
     "execution_count": 16,
     "metadata": {},
     "output_type": "execute_result"
    }
   ],
   "source": [
    "dump(mlp, '../models/mlp.joblib')"
   ]
  },
  {
   "cell_type": "code",
   "execution_count": 17,
   "id": "ae12838a",
   "metadata": {},
   "outputs": [
    {
     "data": {
      "text/plain": [
       "4651.392291619794"
      ]
     },
     "execution_count": 17,
     "metadata": {},
     "output_type": "execute_result"
    }
   ],
   "source": [
    "y_pred = mlp.predict(X_train)\n",
    "mean_squared_error(\n",
    "    target_scaler.inverse_transform(y_train),\n",
    "    target_scaler.inverse_transform(y_pred.reshape(-1, 1)),\n",
    "    squared=False\n",
    ")"
   ]
  },
  {
   "cell_type": "code",
   "execution_count": 18,
   "id": "70e955d4",
   "metadata": {},
   "outputs": [
    {
     "data": {
      "text/plain": [
       "4880.184917121395"
      ]
     },
     "execution_count": 18,
     "metadata": {},
     "output_type": "execute_result"
    }
   ],
   "source": [
    "y_pred = mlp.predict(X_test)\n",
    "mean_squared_error(\n",
    "    target_scaler.inverse_transform(y_test),\n",
    "    target_scaler.inverse_transform(y_pred.reshape(-1, 1)),\n",
    "    squared=False\n",
    ")"
   ]
  },
  {
   "cell_type": "code",
   "execution_count": 19,
   "id": "6a0724d2",
   "metadata": {},
   "outputs": [
    {
     "data": {
      "image/png": "[encoded data removed]",
      "text/plain": [
       "<Figure size 1066.67x600 with 1 Axes>"
      ]
     },
     "metadata": {},
     "output_type": "display_data"
    }
   ],
   "source": [
    "plt.figure(figsize=(4 * (16/9),4), dpi=150)\n",
    "plt.plot(mlp.loss_curve_)\n",
    "plt.title('Best MLP learning curve')\n",
    "plt.ylabel('Loss')\n",
    "plt.xlabel('Step')\n",
    "plt.tight_layout()\n",
    "plt.savefig(f'../reports/figures/mlp_learning_curve.png')\n",
    "plt.show()"
   ]
  }
 ],
 "metadata": {
  "kernelspec": {
   "display_name": "Python 3.8.10 64-bit",
   "language": "python",
   "name": "python3810jvsc74a57bd031f2aee4e71d21fbe5cf8b01ff0e069b9275f58929596ceb00d14d90e3e16cd6"
  },
  "language_info": {
   "codemirror_mode": {
    "name": "ipython",
    "version": 3
   },
   "file_extension": ".py",
   "mimetype": "text/x-python",
   "name": "python",
   "nbconvert_exporter": "python",
   "pygments_lexer": "ipython3",
   "version": "3.8.10"
  }
 },
 "nbformat": 4,
 "nbformat_minor": 5
}
