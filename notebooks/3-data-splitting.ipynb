{
 "cells": [
  {
   "cell_type": "code",
   "execution_count": 1,
   "id": "031baf9a",
   "metadata": {},
   "outputs": [],
   "source": [
    "import pandas as pd\n",
    "from sklearn.model_selection import train_test_split"
   ]
  },
  {
   "cell_type": "markdown",
   "id": "989e69b6",
   "metadata": {},
   "source": [
    "# 3-data-splitting"
   ]
  },
  {
   "cell_type": "markdown",
   "id": "29013fb1",
   "metadata": {},
   "source": [
    "Dane pochodzą z:\n",
    "* https://www.kaggle.com/austinreese/craigslist-carstrucks-data\n",
    "* https://github.com/AustinReese/UsedVehicleSearch"
   ]
  },
  {
   "cell_type": "code",
   "execution_count": 2,
   "id": "9a2d5834",
   "metadata": {},
   "outputs": [],
   "source": [
    "df = pd.read_csv('../data/processed/vehicles.csv')"
   ]
  },
  {
   "cell_type": "code",
   "execution_count": 3,
   "id": "85494dff",
   "metadata": {},
   "outputs": [
    {
     "name": "stdout",
     "output_type": "stream",
     "text": [
      "<class 'pandas.core.frame.DataFrame'>\n",
      "RangeIndex: 169852 entries, 0 to 169851\n",
      "Data columns (total 74 columns):\n",
      " #   Column                      Non-Null Count   Dtype  \n",
      "---  ------                      --------------   -----  \n",
      " 0   odometer                    169852 non-null  float64\n",
      " 1   price                       169852 non-null  int64  \n",
      " 2   year                        169852 non-null  float64\n",
      " 3   condition_fair              169852 non-null  int64  \n",
      " 4   condition_good              169852 non-null  int64  \n",
      " 5   condition_like new          169852 non-null  int64  \n",
      " 6   condition_new               169852 non-null  int64  \n",
      " 7   cylinders_12 cylinders      169852 non-null  int64  \n",
      " 8   cylinders_3 cylinders       169852 non-null  int64  \n",
      " 9   cylinders_4 cylinders       169852 non-null  int64  \n",
      " 10  cylinders_5 cylinders       169852 non-null  int64  \n",
      " 11  cylinders_6 cylinders       169852 non-null  int64  \n",
      " 12  cylinders_8 cylinders       169852 non-null  int64  \n",
      " 13  cylinders_other             169852 non-null  int64  \n",
      " 14  drive_fwd                   169852 non-null  int64  \n",
      " 15  drive_rwd                   169852 non-null  int64  \n",
      " 16  fuel_electric               169852 non-null  int64  \n",
      " 17  fuel_gas                    169852 non-null  int64  \n",
      " 18  fuel_hybrid                 169852 non-null  int64  \n",
      " 19  fuel_other                  169852 non-null  int64  \n",
      " 20  manufacturer_audi           169852 non-null  int64  \n",
      " 21  manufacturer_bmw            169852 non-null  int64  \n",
      " 22  manufacturer_buick          169852 non-null  int64  \n",
      " 23  manufacturer_cadillac       169852 non-null  int64  \n",
      " 24  manufacturer_chevrolet      169852 non-null  int64  \n",
      " 25  manufacturer_chrysler       169852 non-null  int64  \n",
      " 26  manufacturer_dodge          169852 non-null  int64  \n",
      " 27  manufacturer_ford           169852 non-null  int64  \n",
      " 28  manufacturer_gmc            169852 non-null  int64  \n",
      " 29  manufacturer_honda          169852 non-null  int64  \n",
      " 30  manufacturer_hyundai        169852 non-null  int64  \n",
      " 31  manufacturer_infiniti       169852 non-null  int64  \n",
      " 32  manufacturer_jaguar         169852 non-null  int64  \n",
      " 33  manufacturer_jeep           169852 non-null  int64  \n",
      " 34  manufacturer_kia            169852 non-null  int64  \n",
      " 35  manufacturer_lexus          169852 non-null  int64  \n",
      " 36  manufacturer_lincoln        169852 non-null  int64  \n",
      " 37  manufacturer_mazda          169852 non-null  int64  \n",
      " 38  manufacturer_mercedes-benz  169852 non-null  int64  \n",
      " 39  manufacturer_mini           169852 non-null  int64  \n",
      " 40  manufacturer_mitsubishi     169852 non-null  int64  \n",
      " 41  manufacturer_nissan         169852 non-null  int64  \n",
      " 42  manufacturer_pontiac        169852 non-null  int64  \n",
      " 43  manufacturer_ram            169852 non-null  int64  \n",
      " 44  manufacturer_rover          169852 non-null  int64  \n",
      " 45  manufacturer_subaru         169852 non-null  int64  \n",
      " 46  manufacturer_toyota         169852 non-null  int64  \n",
      " 47  manufacturer_volkswagen     169852 non-null  int64  \n",
      " 48  manufacturer_volvo          169852 non-null  int64  \n",
      " 49  paint_color_blue            169852 non-null  int64  \n",
      " 50  paint_color_brown           169852 non-null  int64  \n",
      " 51  paint_color_custom          169852 non-null  int64  \n",
      " 52  paint_color_green           169852 non-null  int64  \n",
      " 53  paint_color_grey            169852 non-null  int64  \n",
      " 54  paint_color_orange          169852 non-null  int64  \n",
      " 55  paint_color_purple          169852 non-null  int64  \n",
      " 56  paint_color_red             169852 non-null  int64  \n",
      " 57  paint_color_silver          169852 non-null  int64  \n",
      " 58  paint_color_white           169852 non-null  int64  \n",
      " 59  paint_color_yellow          169852 non-null  int64  \n",
      " 60  transmission_manual         169852 non-null  int64  \n",
      " 61  transmission_other          169852 non-null  int64  \n",
      " 62  type_bus                    169852 non-null  int64  \n",
      " 63  type_convertible            169852 non-null  int64  \n",
      " 64  type_coupe                  169852 non-null  int64  \n",
      " 65  type_hatchback              169852 non-null  int64  \n",
      " 66  type_mini-van               169852 non-null  int64  \n",
      " 67  type_offroad                169852 non-null  int64  \n",
      " 68  type_other                  169852 non-null  int64  \n",
      " 69  type_pickup                 169852 non-null  int64  \n",
      " 70  type_sedan                  169852 non-null  int64  \n",
      " 71  type_truck                  169852 non-null  int64  \n",
      " 72  type_van                    169852 non-null  int64  \n",
      " 73  type_wagon                  169852 non-null  int64  \n",
      "dtypes: float64(2), int64(72)\n",
      "memory usage: 95.9 MB\n"
     ]
    }
   ],
   "source": [
    "df.info()"
   ]
  },
  {
   "cell_type": "code",
   "execution_count": 4,
   "id": "2b7c18d0",
   "metadata": {},
   "outputs": [],
   "source": [
    "y = df['price']"
   ]
  },
  {
   "cell_type": "code",
   "execution_count": 5,
   "id": "b6bbea5b",
   "metadata": {},
   "outputs": [],
   "source": [
    "df.drop('price', axis=1, inplace=True)\n",
    "X = df"
   ]
  },
  {
   "cell_type": "code",
   "execution_count": 6,
   "id": "b93bec5a",
   "metadata": {},
   "outputs": [],
   "source": [
    "X_train, X_test, y_train, y_test = train_test_split(X, y, test_size=0.33, random_state=42)"
   ]
  },
  {
   "cell_type": "code",
   "execution_count": 7,
   "id": "a0d7fa14",
   "metadata": {},
   "outputs": [
    {
     "name": "stdout",
     "output_type": "stream",
     "text": [
      "(113800, 73)\n"
     ]
    }
   ],
   "source": [
    "X_train.to_csv('../data/processed/train_features.csv', index=False)\n",
    "print(X_train.shape)"
   ]
  },
  {
   "cell_type": "code",
   "execution_count": 8,
   "id": "4bf706dd",
   "metadata": {},
   "outputs": [
    {
     "name": "stdout",
     "output_type": "stream",
     "text": [
      "(56052, 73)\n"
     ]
    }
   ],
   "source": [
    "X_test.to_csv('../data/processed/test_features.csv', index=False)\n",
    "print(X_test.shape)"
   ]
  },
  {
   "cell_type": "code",
   "execution_count": 9,
   "id": "0746857b",
   "metadata": {},
   "outputs": [
    {
     "name": "stdout",
     "output_type": "stream",
     "text": [
      "(113800,)\n"
     ]
    }
   ],
   "source": [
    "y_train.to_csv('../data/processed/train_target.csv', index=False)\n",
    "print(y_train.shape)"
   ]
  },
  {
   "cell_type": "code",
   "execution_count": 10,
   "id": "dbf35c00",
   "metadata": {},
   "outputs": [
    {
     "name": "stdout",
     "output_type": "stream",
     "text": [
      "(56052,)\n"
     ]
    }
   ],
   "source": [
    "y_test.to_csv('../data/processed/test_target.csv', index=False)\n",
    "print(y_test.shape)"
   ]
  },
  {
   "cell_type": "code",
   "execution_count": 11,
   "id": "59bad3dc",
   "metadata": {},
   "outputs": [],
   "source": [
    "del df\n",
    "del X_train\n",
    "del X_test\n",
    "del y_train\n",
    "del y_test"
   ]
  }
 ],
 "metadata": {
  "kernelspec": {
   "display_name": "Python 3.8.10 64-bit",
   "language": "python",
   "name": "python3810jvsc74a57bd031f2aee4e71d21fbe5cf8b01ff0e069b9275f58929596ceb00d14d90e3e16cd6"
  },
  "language_info": {
   "codemirror_mode": {
    "name": "ipython",
    "version": 3
   },
   "file_extension": ".py",
   "mimetype": "text/x-python",
   "name": "python",
   "nbconvert_exporter": "python",
   "pygments_lexer": "ipython3",
   "version": "3.8.10"
  }
 },
 "nbformat": 4,
 "nbformat_minor": 5
}
