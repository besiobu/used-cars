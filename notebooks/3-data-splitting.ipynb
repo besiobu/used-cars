{
 "cells": [
  {
   "cell_type": "code",
   "execution_count": 1,
   "id": "031baf9a",
   "metadata": {},
   "outputs": [],
   "source": [
    "import pandas as pd\n",
    "from sklearn.model_selection import train_test_split"
   ]
  },
  {
   "cell_type": "markdown",
   "id": "989e69b6",
   "metadata": {},
   "source": [
    "# 3-data-splitting"
   ]
  },
  {
   "cell_type": "code",
   "execution_count": 2,
   "id": "9a2d5834",
   "metadata": {},
   "outputs": [],
   "source": [
    "df = pd.read_csv('../data/processed/vehicles.csv')"
   ]
  },
  {
   "cell_type": "code",
   "execution_count": 3,
   "id": "2b7c18d0",
   "metadata": {},
   "outputs": [],
   "source": [
    "y = df['price']"
   ]
  },
  {
   "cell_type": "code",
   "execution_count": 4,
   "id": "b6bbea5b",
   "metadata": {},
   "outputs": [],
   "source": [
    "df.drop('price', axis=1, inplace=True)\n",
    "X = df"
   ]
  },
  {
   "cell_type": "code",
   "execution_count": 5,
   "id": "b93bec5a",
   "metadata": {},
   "outputs": [],
   "source": [
    "X_train, X_test, y_train, y_test = train_test_split(X, y, test_size=0.33, random_state=42)"
   ]
  },
  {
   "cell_type": "code",
   "execution_count": 6,
   "id": "a0d7fa14",
   "metadata": {},
   "outputs": [
    {
     "name": "stdout",
     "output_type": "stream",
     "text": [
      "(176861, 94)\n"
     ]
    }
   ],
   "source": [
    "X_train.to_csv('../data/processed/train_features.csv', index=False)\n",
    "print(X_train.shape)"
   ]
  },
  {
   "cell_type": "code",
   "execution_count": 7,
   "id": "4bf706dd",
   "metadata": {},
   "outputs": [
    {
     "name": "stdout",
     "output_type": "stream",
     "text": [
      "(87112, 94)\n"
     ]
    }
   ],
   "source": [
    "X_test.to_csv('../data/processed/test_features.csv', index=False)\n",
    "print(X_test.shape)"
   ]
  },
  {
   "cell_type": "code",
   "execution_count": 8,
   "id": "0746857b",
   "metadata": {},
   "outputs": [
    {
     "name": "stdout",
     "output_type": "stream",
     "text": [
      "(176861,)\n"
     ]
    }
   ],
   "source": [
    "y_train.to_csv('../data/processed/train_target.csv', index=False)\n",
    "print(y_train.shape)"
   ]
  },
  {
   "cell_type": "code",
   "execution_count": 9,
   "id": "dbf35c00",
   "metadata": {},
   "outputs": [
    {
     "name": "stdout",
     "output_type": "stream",
     "text": [
      "(87112,)\n"
     ]
    }
   ],
   "source": [
    "y_test.to_csv('../data/processed/test_target.csv', index=False)\n",
    "print(y_test.shape)"
   ]
  }
 ],
 "metadata": {
  "kernelspec": {
   "display_name": "Python 3.8.10 64-bit",
   "language": "python",
   "name": "python3810jvsc74a57bd031f2aee4e71d21fbe5cf8b01ff0e069b9275f58929596ceb00d14d90e3e16cd6"
  },
  "language_info": {
   "codemirror_mode": {
    "name": "ipython",
    "version": 3
   },
   "file_extension": ".py",
   "mimetype": "text/x-python",
   "name": "python",
   "nbconvert_exporter": "python",
   "pygments_lexer": "ipython3",
   "version": "3.8.10"
  }
 },
 "nbformat": 4,
 "nbformat_minor": 5
}
